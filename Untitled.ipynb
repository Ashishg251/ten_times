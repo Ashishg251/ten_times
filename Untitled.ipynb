{
 "cells": [
  {
   "cell_type": "code",
   "execution_count": 477,
   "metadata": {},
   "outputs": [],
   "source": [
    "import scrapy\n",
    "import time\n",
    "import selenium\n",
    "import json\n",
    "import re\n",
    "from scrapy.selector import Selector\n",
    "from selenium import webdriver\n",
    "from selenium.webdriver.common.keys import Keys\n",
    "import logging\n",
    "logging.basicConfig(level=logging.INFO)\n",
    "logger = logging.getLogger(__name__)"
   ]
  },
  {
   "cell_type": "code",
   "execution_count": 478,
   "metadata": {},
   "outputs": [],
   "source": [
    "header = {'User-Agent': 'Mozilla/5.0 (Macintosh; Intel Mac OS X 10_14_6) AppleWebKit/537.36 (KHTML, like Gecko) Chrome/80.0.3987.132 Safari/537.36'}\n",
    "driver = webdriver.Chrome('/Users/ashish/Downloads/chromedriver')\n",
    "# driver.get('https://10times.com/antique-furniture-china')\n",
    "driver.get('https://10times.com/china-hefei-international-environmental')\n",
    "# driver.get('https://10times.com/cicc')\n",
    "# driver.get('https://10times.com/cemat-asia')"
   ]
  },
  {
   "cell_type": "code",
   "execution_count": 479,
   "metadata": {},
   "outputs": [
    {
     "name": "stdout",
     "output_type": "stream",
     "text": [
      "visitors =  None\n"
     ]
    }
   ],
   "source": [
    "def hasNumbers(inputString):\n",
    "    return bool(re.search(r'\\d', inputString))\n",
    "visitors = scrapy_selector.css('table.table.noBorder.mng tr')[1].css('td a[href*=visitors]::text').get()\n",
    "print(\"visitors = \", visitors)\n",
    "if visitors is not None and hasNumbers(visitors):\n",
    "    exhibitors = scrapy_selector.css('table.table.noBorder.mng tr')[1].css('td a[href*=exhibitors]::text').get()\n",
    "    if exhibitors is not None and hasNumbers(exhibitors):\n",
    "        pass\n",
    "    else:\n",
    "        exhibitors = scrapy_selector.css('table.table.noBorder.mng tr')[1].css('td::text').get()\n",
    "else:\n",
    "    visitors = scrapy_selector.css('table.table.noBorder.mng tr')[1].css('td::text')[0].get()\n",
    "    exhibitors = scrapy_selector.css('table.table.noBorder.mng tr')[1].css('td::text')[1].get()\n"
   ]
  },
  {
   "cell_type": "code",
   "execution_count": 480,
   "metadata": {},
   "outputs": [
    {
     "name": "stdout",
     "output_type": "stream",
     "text": [
      "md =  {'ep': None, 'timing': ' 09:00 AM-06:00 PM (expected)', 'type': ' Trade Show', 'category': 'Environment & Waste', 'participants_visitors': '\\n1000 - 5000  ', 'participants_exhibitors': '         100 - 500 Exhibitors \\n        '}\n"
     ]
    }
   ],
   "source": [
    "scrapy_selector = Selector(text = driver.page_source)\n",
    "# ep = scrapy_selector.xpath('//section[@id=\"exhib\"]/p[@class=\"desc\"]/text()').get()\n",
    "md = {\n",
    "    \"ep\": scrapy_selector.css('section#exhib p.desc::text').get(),\n",
    "    \"timing\": scrapy_selector.css('tr#hvrout1 td::text').get(),\n",
    "    \"type\": scrapy_selector.css('td#hvrout2::text').get(),\n",
    "    \"category\": scrapy_selector.css('td#hvrout2 a::text').get(),\n",
    "    \"participants_visitors\": visitors,\n",
    "    \"participants_exhibitors\": exhibitors\n",
    "}\n",
    "\n",
    "print(\"md = \", md)"
   ]
  },
  {
   "cell_type": "code",
   "execution_count": 481,
   "metadata": {},
   "outputs": [
    {
     "name": "stdout",
     "output_type": "stream",
     "text": [
      "{'timing': '09:00 AM-06:00 PM (expected)', 'type': 'Trade Show', 'category': 'Environment & Waste', 'participants_visitors': '1000 - 5000', 'participants_exhibitors': '100 - 500 Exhibitors'}\n"
     ]
    }
   ],
   "source": [
    "md_new = {}\n",
    "for attr, value in md.items():\n",
    "    if(md[attr] is not None):\n",
    "        md_new[attr] = value.strip()\n",
    "print(md_new)"
   ]
  },
  {
   "cell_type": "code",
   "execution_count": 482,
   "metadata": {},
   "outputs": [],
   "source": [
    "driver.close()"
   ]
  }
 ],
 "metadata": {
  "kernelspec": {
   "display_name": "Python 3",
   "language": "python",
   "name": "python3"
  },
  "language_info": {
   "codemirror_mode": {
    "name": "ipython",
    "version": 3
   },
   "file_extension": ".py",
   "mimetype": "text/x-python",
   "name": "python",
   "nbconvert_exporter": "python",
   "pygments_lexer": "ipython3",
   "version": "3.7.1"
  }
 },
 "nbformat": 4,
 "nbformat_minor": 2
}
