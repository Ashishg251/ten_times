{
 "cells": [
  {
   "cell_type": "code",
   "execution_count": 70,
   "metadata": {},
   "outputs": [],
   "source": [
    "import scrapy\n",
    "import time\n",
    "import selenium\n",
    "import json\n",
    "from scrapy.selector import Selector\n",
    "from selenium import webdriver\n",
    "from selenium.webdriver.common.keys import Keys\n",
    "import logging\n",
    "logging.basicConfig(level=logging.INFO)\n",
    "logger = logging.getLogger(__name__)"
   ]
  },
  {
   "cell_type": "code",
   "execution_count": 71,
   "metadata": {},
   "outputs": [],
   "source": [
    "header = {'User-Agent': 'Mozilla/5.0 (Macintosh; Intel Mac OS X 10_14_6) AppleWebKit/537.36 (KHTML, like Gecko) Chrome/80.0.3987.132 Safari/537.36'}\n",
    "driver = webdriver.Chrome('/Users/ashish/Downloads/chromedriver')\n",
    "driver.get('https://10times.com/china-beijing-international-coal-mining-equipment-technology') "
   ]
  },
  {
   "cell_type": "code",
   "execution_count": 72,
   "metadata": {},
   "outputs": [],
   "source": [
    "#home page\n",
    "# search_city = driver.find_element_by_xpath('//*[@id=\"explore-keywords\"]').send_keys('Events in USA')\n",
    "# time.sleep(3.8)\n",
    "# drop_down_selector = driver.find_element_by_xpath('//*[@id=\"kamal\"]')\n",
    "# drop_down_selector.click()\n",
    "# time.sleep(5.9)\n",
    "# cookie_button = driver.find_element_by_xpath('//*[@class=\"optanon-allow-all accept-cookies-button\"]')\n",
    "# cookie_button.click()\n",
    "# time.sleep(1.2)\n",
    "# search_button = driver.find_element_by_xpath('//*[@id=\"explore-button\"]')\n",
    "# search_button.click()\n",
    "# time.sleep(3.1)"
   ]
  },
  {
   "cell_type": "code",
   "execution_count": 73,
   "metadata": {},
   "outputs": [],
   "source": [
    "#catalogue page with an infinite scroll\n",
    "# last_height = driver.execute_script(\"return document.body.scrollHeight\")\n",
    "# SCROLL_PAUSE_TIME = 6.8\n",
    "# i=0\n",
    "# while i<1:\n",
    "#     driver.execute_script(\"window.scrollTo(0, document.body.scrollHeight);\")\n",
    "#     time.sleep(SCROLL_PAUSE_TIME+i)\n",
    "#     new_height = driver.execute_script(\"return document.body.scrollHeight\")\n",
    "#     if new_height == last_height:\n",
    "#         break\n",
    "#     last_height = new_height\n",
    "#     i+=1\n",
    "#     time.sleep(2.2)\n",
    "# modal_window = driver.find_element_by_xpath('//*[@id=\"_modal_close\"]')\n",
    "# modal_window.click()"
   ]
  },
  {
   "cell_type": "code",
   "execution_count": 74,
   "metadata": {},
   "outputs": [
    {
     "name": "stderr",
     "output_type": "stream",
     "text": [
      "INFO:__main__:Theres a total of 96 links.\n"
     ]
    }
   ],
   "source": [
    "#fetch all the event urls\n",
    "scrapy_selector = Selector(text = driver.page_source)\n",
    "events_selector = scrapy_selector.xpath('//*[@aria-label=\"evt_bkmrk\"]') #returns the list of selectors\n",
    "logger.info('Theres a total of ' + str(len(events_selector)) + ' links.')\n",
    "event_urls_distinct = []"
   ]
  },
  {
   "cell_type": "code",
   "execution_count": 75,
   "metadata": {},
   "outputs": [],
   "source": [
    "# create a distinct list of event urls\n",
    "try:\n",
    "    s = 0\n",
    "    event_selector = events_selector[0]\n",
    "    for url in event_selector.xpath('//@data-url').extract():\n",
    "#         print(\"url = \", url)\n",
    "        if url not in event_urls_distinct:\n",
    "            event_urls_distinct.append(url)\n",
    "        else:\n",
    "            pass\n",
    "#             print(\"duplicate url = \", url)\n",
    "        s = s+1\n",
    "except Exception as e:\n",
    "    logger.info('Reached last iteration #' + str(s))\n",
    "    print(\"exception is = \", e)"
   ]
  },
  {
   "cell_type": "code",
   "execution_count": 76,
   "metadata": {},
   "outputs": [
    {
     "name": "stderr",
     "output_type": "stream",
     "text": [
      "INFO:__main__:Event #0\n"
     ]
    },
    {
     "name": "stdout",
     "output_type": "stream",
     "text": [
      "event_urls_distinct length =  100\n",
      "event_url =  https://10times.com/america-beauty-show\n"
     ]
    },
    {
     "name": "stderr",
     "output_type": "stream",
     "text": [
      "INFO:__main__:Event #1\n"
     ]
    },
    {
     "name": "stdout",
     "output_type": "stream",
     "text": [
      "event name =  Americas Beauty Show\n",
      "event description =  Americas Beauty Show is an international platform promoting the beauty and cosmetics industries worldwide. This event is one prime destination for the professional beauty industry to network, source products from the worldâ€™s best brands and make their presence felt on a global scale. Salon professionals and owners, aspiring students and teachers, headliners and educators, leading product manufacturers and distributors showing their latest products and distributors, Americaâ€™s Beauty Show is the ultimate destination for serious beauty professionals.\n",
      "organizer_name =  Cosmetologists Chicago\n",
      "organizer_link =  https://10times.com/company/americas-beauty-show\n",
      "event_url =  https://10times.com/church-leaders-conference\n"
     ]
    },
    {
     "name": "stderr",
     "output_type": "stream",
     "text": [
      "INFO:__main__:Event #2\n"
     ]
    },
    {
     "name": "stdout",
     "output_type": "stream",
     "text": [
      "event name =  Church Leaders Conference\n",
      "event description =  At The Church Leaders Conference (CLC), thousands of church leaders from across the globe will gather to be refreshed and encouraged with Godâs vision for His Church, and equipped to be an even better leader wherever God has placed them on a mission. Itâs three days that will leave you energized and ready to get after the serious business of shepherding people toward full devotion to Jesus Christ.\n",
      "organizer_name =  Watermark Community Church\n",
      "organizer_link =  None\n",
      "event_url =  https://10times.com/instant-medi-marketing-miracle\n"
     ]
    },
    {
     "name": "stderr",
     "output_type": "stream",
     "text": [
      "INFO:__main__:Event #3\n"
     ]
    },
    {
     "name": "stdout",
     "output_type": "stream",
     "text": [
      "event name =  Instant Marketing Miracle for Doctors, Experts &amp; Entrepreneurs\n",
      "event description =  Create More Influence, Impact, &amp; Income to Grow Your Practice and Build Your Business Bank Balance with Dr. Oz, Dr. Drew, Dr. Joycelyn Elders, Dr. Patch Adams, NASA Astronaut Mike Massimino, MMA Champion Jenae Noonan, Celebrity Dentist Catrise Austin, and Celebrity Entrepreneur Clint Arthur, when they share their secrets, strategies, and super-powers to move the needle in your CAREER, LIFE, and BUSINESS.\n",
      "organizer_name =  Celebrity Entrepreneur\n",
      "organizer_link =  None\n",
      "event_url =  https://10times.com/global-electricpower-tech\n"
     ]
    },
    {
     "name": "stderr",
     "output_type": "stream",
     "text": [
      "INFO:__main__:Event #4\n"
     ]
    },
    {
     "name": "stdout",
     "output_type": "stream",
     "text": [
      "event name =  Electric Power Tech Korea\n",
      "event description =  Electric Power Tech Korea is an event involving the electrical and electronics industry. The event is a leading exhibition which contributes to develop technology for innovations and to build an infrastructure for electric and power industries. The event also provides opportunity to participate in a variety of technology seminar, workshop, forum which accelerates innovation of electric and power industry through information exchanges. This event shows product from Electric Power Facilities and System, Control and Management System, Lighting and Relevant Materials, Transmission equipment and System, New &amp; Renewable Energy System &amp; Components.\n",
      "organizer_name =  K. Fairs Ltd.\n",
      "organizer_link =  https://10times.com/company/k-fairs-ltd\n",
      "event_url =  https://10times.com/famous-furniture-dongguan\n"
     ]
    },
    {
     "name": "stderr",
     "output_type": "stream",
     "text": [
      "INFO:__main__:Event #5\n"
     ]
    },
    {
     "name": "stdout",
     "output_type": "stream",
     "text": [
      "event name =  International Famous Furniture Fair (Dongguan)\n",
      "event description =  International Famous Furniture Fair (3F), the first UFI approved professional international furniture fair in China, has a history of 21 years as the most effective gateway to source furniture in China. With nine exhibition buildings and more than 700,000 square meters’ exhibition space, 3F gathers over 1,200 top furniture enterprises which display leading, exclusive and comprehensive range of design-inspired furniture and furnishings.\n",
      "organizer_name =  Guangdong Modern Convention and Exhibition Management Co., Ltd\n",
      "organizer_link =  https://10times.com/company/guangdong-modern-convention-and-exhibition-management\n",
      "event_url =  https://10times.com/ice-new-york-conference\n"
     ]
    },
    {
     "name": "stderr",
     "output_type": "stream",
     "text": [
      "INFO:__main__:Event #6\n"
     ]
    },
    {
     "name": "stdout",
     "output_type": "stream",
     "text": [
      "event name =  International Conference on Education, Teaching, Learning &amp; Innovation\n",
      "event description =  International Conference on Education, Teaching, Learning &amp; Innovation is themed as Developing relationships &amp; sharing knowledge and ideas and it covers topics like Adolescence education, Adult education, Advanced quantitative methods in education, Applied Linguistics, Art education, etc.\n",
      "organizer_name =  Greater Vision Conferences & Seminars\n",
      "organizer_link =  https://10times.com/company/j-alpha-business-research-and-publishers-pvt-ltd\n",
      "event_url =  https://10times.com/gem-jewelryshow-dallas\n"
     ]
    },
    {
     "name": "stderr",
     "output_type": "stream",
     "text": [
      "INFO:__main__:Event #7\n"
     ]
    },
    {
     "name": "stdout",
     "output_type": "stream",
     "text": [
      "event name =  International Gem &amp; Jewelry Show-Dallas\n",
      "event description =  International Gem and Jewellery Store is an event solely dedicated to the field of gem and jewellery industry. It is the perfect platform for visitors, exhibitors and professionals to experience the latest technologies and developments in the field of jewellery and gems. In this event, the visitors can directly purchase products at an economic rate directly from the manufacturers. The event provides a perfect platform for buyers and businesses to establish contacts and network their market among professionals and top most brands and industries. The event continues to attract well reputed local and overseas buyers and making the event a hub for merchandising. This show is considered one of the most expensive shows worldwide.\n",
      "organizer_name =  The International Gem & Jewelry Show inc\n",
      "organizer_link =  https://10times.com/company/international-gem-jewelry-show-inc\n",
      "event_url =  https://10times.com/wats-expo-orlando\n"
     ]
    },
    {
     "name": "stderr",
     "output_type": "stream",
     "text": [
      "INFO:__main__:Event #8\n"
     ]
    },
    {
     "name": "stdout",
     "output_type": "stream",
     "text": [
      "event name =  World Aviation Training Summit\n",
      "event description =  World Aviation Training Summit is the world’s largest gathering of aviation training professionals serving airlines, regulators, flight academies, universities, training providers and training industry. The event addresses the current and future training issues affecting your business from personnel selection and recruitment to regulation and training technologies. The event offers unrivaled opportunities to meet with the key decision makers and influencers within the international airline training community and allows attendees to discuss the latest training technologies and techniques to improve operational safety and efficiency for pilot training, cabin crew training, and maintenance training.\n",
      "organizer_name =  Halldale Media Inc\n",
      "organizer_link =  https://10times.com/company/halldale-media-inc\n",
      "event_url =  https://10times.com/world-naturalhair-healthshow\n"
     ]
    },
    {
     "name": "stderr",
     "output_type": "stream",
     "text": [
      "INFO:__main__:Event #9\n"
     ]
    },
    {
     "name": "stdout",
     "output_type": "stream",
     "text": [
      "event name =  World Natural Hair &amp; Healthy Lifestyle Event\n",
      "event description =  The World Natural Hair &amp; Healthy Lifestyle Event creates a much-needed arena for professionals and consumers to come together to learn and exchange information about natural hair care, health and beauty products and techniques. The event brings in over 30 thousand attendees over the two day weekend. It is the first, the largest and the best event that celebrates natural beauty and healthy living. The show weekend also offers music, entertainment, over 300 vendors, over 35 consumer hair, business, DIY, fitness and health workshops and more.\n",
      "organizer_name =  Taliah Waajid\n",
      "organizer_link =  https://10times.com/company/world-natural-hair-health-and-beauty-show-united-states-of-america\n",
      "event_url =  https://10times.com/nab-show\n",
      "event name =  NAB Show\n",
      "event description =  The NAB Show with its exclusive display of advanced devices and gadgets, cameras, lenses, capture accessories, motion capture devices, lighting and grip devices, workflow solutions, ENG vehicles, antennas, transmitters and towers, satellite technologies, interactive television, management and systems services, outdoor media, media, post-production hardware and software products and much more.\n",
      "organizer_name =  National Association of Broadcasters\n",
      "organizer_link =  https://10times.com/company/national-association-broadcasters\n"
     ]
    }
   ],
   "source": [
    "# fetch the event details from every event url\n",
    "organizer_links_distinct = []\n",
    "q = 0\n",
    "print(\"event_urls_distinct length = \", len(event_urls_distinct))\n",
    "for event_url in event_urls_distinct:\n",
    "    if q > 9:\n",
    "        break\n",
    "    print(\"event_url = \", event_url)\n",
    "    logger.info('Event #' + str(q))\n",
    "    driver.get(event_url)\n",
    "    q = q+1\n",
    "    time.sleep(10+q/10)\n",
    "    link_to_home = event_url\n",
    "    event_scrapy_selector = Selector(text = driver.page_source)\n",
    "    event_json_string = event_scrapy_selector.xpath('//*[@type=\"application/ld+json\"]/text()').extract_first()\n",
    "    event_schema_json = json.loads(event_json_string)\n",
    "    print(\"event name = \", event_schema_json[\"name\"])\n",
    "    print(\"event description = \", event_schema_json[\"description\"])\n",
    "    organizer_name = event_scrapy_selector.xpath('//*[@id=\"org-name\"]/text()').extract_first()\n",
    "    print(\"organizer_name = \", organizer_name)\n",
    "    organizer_link = event_scrapy_selector.xpath('//*[@id=\"org-name\"]/@href').extract_first()\n",
    "    print(\"organizer_link = \", organizer_link)\n",
    "    if organizer_link not in organizer_links_distinct and organizer_link is not None:\n",
    "        organizer_links_distinct.append(organizer_link)"
   ]
  },
  {
   "cell_type": "code",
   "execution_count": 77,
   "metadata": {},
   "outputs": [
    {
     "name": "stderr",
     "output_type": "stream",
     "text": [
      "INFO:__main__:Organizer #0\n"
     ]
    },
    {
     "name": "stdout",
     "output_type": "stream",
     "text": [
      "organizer link length =  8\n",
      "organizer_link =  https://10times.com/company/americas-beauty-show\n",
      "organizer_schema_json =  {'@context': 'http://schema.org', '@type': 'LocalBusiness', 'name': 'Cosmetologists Chicago', 'url': 'https://10times.com/company/americas-beauty-show', 'description': 'America&#039;s Beauty Show ® (ABS) is owned and produced by Cosmetologists Chicago® (CC). Professional cosmetologists, nail technicians and estheticians from all over the world attend ABS every year to experience superior education and innovation in all aspects of beauty, as well as gain inspiration to take back to their salons. With more than 80,000+ salon professionals and owners, aspiring students and teachers, headliners and educators, leading product manufacturers and distributors showing their latest products and distributors, America’s Beauty Show is the ultimate destination for serious beauty professionals!Cosmetologists Chicago uses the funds raised through America’s Beauty Show to protect, build and drive the salon industry through advanced education and scholarships, plus monitoring and lobbying for professional licensure. The independent association currently has more than 15,000 beauty professional and student members and has served its members for more than 9 decades!The overall mission of both America’s Beauty Show and Cosmetologists Chicago is to support the industry by educating all pros, members and non-members alike, to improve the cosmetology profession and help those in need. As always, the #1 benefit of joining Cosmetologists Chicago is receiving a free 3-day admission to America&#039;s Beauty Show.', 'image': ['https://im.gifbt.com/event/americas-beauty-show/1511062310833/logo1511000294.jpg', 'https://im.gifbt.com/map/city/70803.png'], 'address': {'@type': 'PostalAddress', 'streetAddress': 'Chicago USA', 'addressRegion': 'Chicago', 'addressCountry': 'US'}, 'aggregateRating': {'@type': 'AggregateRating', '@id': 'https://10times.com/company/americas-beauty-show#aggregate', 'url': 'https://10times.com/company/americas-beauty-show', 'ratingValue': '4.3', 'ratingCount': '205', 'bestRating': '5'}}\n"
     ]
    },
    {
     "name": "stderr",
     "output_type": "stream",
     "text": [
      "INFO:__main__:Organizer #1\n"
     ]
    },
    {
     "name": "stdout",
     "output_type": "stream",
     "text": [
      "organizer_link =  https://10times.com/company/k-fairs-ltd\n",
      "organizer_schema_json =  {'@context': 'http://schema.org', '@type': 'LocalBusiness', 'name': 'K. Fairs Ltd.', 'url': 'https://10times.com/company/k-fairs-ltd', 'description': 'K.Fairs provides an opportunity to bring together buyers sellers and industry colleagues by holding specialized exhibitions best suited for entrepreneurs trying to generate profit to seek changes in management structure and desirable development. With all the latest technologies and offerings on display and special seminars K.Fairs endeavors to provide visitors with a space that gives a wide range of information in a concentrated period of time and enable companies to participate in exhibitions at lower cost for introduction and promotion of their new products and attraction of new buyers.', 'image': ['https://im.gifbt.com/event/k-fairs-ltd/1576033339276/logo1575965342.jpg', 'https://im.gifbt.com/map/city/69973.png'], 'address': {'@type': 'PostalAddress', 'streetAddress': 'A-1602, Tera Tower II, 201, Songpa-daero, Songpa-gu', 'addressRegion': 'Seoul', 'addressCountry': 'KR'}, 'aggregateRating': {'@type': 'AggregateRating', '@id': 'https://10times.com/company/k-fairs-ltd#aggregate', 'url': 'https://10times.com/company/k-fairs-ltd', 'ratingValue': '3.9', 'ratingCount': '34', 'bestRating': '5'}}\n"
     ]
    },
    {
     "name": "stderr",
     "output_type": "stream",
     "text": [
      "INFO:__main__:Organizer #2\n"
     ]
    },
    {
     "name": "stdout",
     "output_type": "stream",
     "text": [
      "organizer_link =  https://10times.com/company/guangdong-modern-convention-and-exhibition-management\n",
      "organizer_schema_json =  {'@context': 'http://schema.org', '@type': 'LocalBusiness', 'name': 'Guangdong Modern Convention and Exhibition Management Co., Ltd', 'url': 'https://10times.com/company/guangdong-modern-convention-and-exhibition-management', 'description': 'Guangdong Modern International Exhibition Center provides 130,000 sqm indoor exhibition area and 80,000 sqm outdoor exhibition area, which is one of the most biggest exhibition center in Asia. It owns 6 large exhibition halls and 11 multifunctional meeting rooms, the largest one can accommodate over 2,000 people. The exhibition center is equipped with advanced communication system, water and electricity system, security system, air conditioner system and guide system.', 'image': ['https://im.gifbt.com/event/guangdong-modern-convention-and-exhibition-management/1578538828144/logo1578484123.jpg', 'https://im.gifbt.com/map/city/69064.png'], 'address': {'@type': 'PostalAddress', 'streetAddress': 'Gate No. 12, Guangdong Modern International Exhibition Centre, Jia ju Avenue, Houjie Town', 'addressRegion': 'Dongguan', 'addressCountry': 'CN'}, 'aggregateRating': {'@type': 'AggregateRating', '@id': 'https://10times.com/company/guangdong-modern-convention-and-exhibition-management#aggregate', 'url': 'https://10times.com/company/guangdong-modern-convention-and-exhibition-management', 'ratingValue': '5.0', 'ratingCount': '2', 'bestRating': '5'}}\n"
     ]
    },
    {
     "name": "stderr",
     "output_type": "stream",
     "text": [
      "INFO:__main__:Organizer #3\n"
     ]
    },
    {
     "name": "stdout",
     "output_type": "stream",
     "text": [
      "organizer_link =  https://10times.com/company/j-alpha-business-research-and-publishers-pvt-ltd\n",
      "organizer_schema_json =  {'@context': 'http://schema.org', '@type': 'LocalBusiness', 'name': 'Greater Vision Conferences &amp; Seminars', 'url': 'https://10times.com/company/j-alpha-business-research-and-publishers-pvt-ltd', 'description': 'The Global Business Research Journals is a leading and prestigious organization engaged in publishing high quality original papers theory-based empirical papers review papers case reports conference reports/papers technology reports book reviews commentaries events and news. They also strive to comply with highest research standards and scientific research or practice journals qualities. The organization also offer huge and comprehensive platform for debate among diverse academic and practitioner communities who address a broad area of business and management issues across the globe. The organization also provides excellent feedback useful comments constructive criticisms and suggestions to improve the manuscripts submitted for probable publication in our journals.', 'image': ['https://im.gifbt.com/event/j-alpha-business-research-and-publishers-pvt-ltd/1558580477003/logo1558509508.jpg', 'https://im.gifbt.com/map/city/68873.png'], 'address': {'@type': 'PostalAddress', 'streetAddress': 'Greater Vision Conferences &amp; Seminars OrganizingOffice No. 134, 1st Floor, Ascon House, Salahuddin Road,Al Muteena, Deira,', 'addressRegion': 'Dubai', 'addressCountry': 'AE'}, 'aggregateRating': {'@type': 'AggregateRating', '@id': 'https://10times.com/company/j-alpha-business-research-and-publishers-pvt-ltd#aggregate', 'url': 'https://10times.com/company/j-alpha-business-research-and-publishers-pvt-ltd', 'ratingValue': '4.4', 'ratingCount': '40', 'bestRating': '5'}}\n"
     ]
    },
    {
     "name": "stderr",
     "output_type": "stream",
     "text": [
      "INFO:__main__:Organizer #4\n"
     ]
    },
    {
     "name": "stdout",
     "output_type": "stream",
     "text": [
      "organizer_link =  https://10times.com/company/international-gem-jewelry-show-inc\n",
      "organizer_schema_json =  {'@context': 'http://schema.org', '@type': 'LocalBusiness', 'name': 'The International Gem &amp; Jewelry Show inc', 'url': 'https://10times.com/company/international-gem-jewelry-show-inc', 'description': 'Beginning its journey in the year 1967 the International Gem &amp; Jewelry Show Inc also known as Intergem was created by Mr. Herbert A Duke Sr. as the first event of its kind. Headquartered in Rockville Maryland the General Manager of this highly reputed company is Claudia Clemente. The largest in its category Intergem boasts of organizing more than 100 shows annually in more than 90 venues all over the country and a remarkable visitors portfolio of over a million customers.  Backed by its customer centric values and a dynamic team of experts and professionals this company has the expertise and experience that goes into making each and every show a super success right from the start. This USA based company prides itself on presenting the best and the largest collection of quality jewelry and gem stones in its shows.', 'image': ['https://im.gifbt.com/map/city/89726.png'], 'address': {'@type': 'PostalAddress', 'streetAddress': '120 Derwood Circle', 'addressRegion': 'Rockville', 'addressCountry': 'US'}, 'aggregateRating': {'@type': 'AggregateRating', '@id': 'https://10times.com/company/international-gem-jewelry-show-inc#aggregate', 'url': 'https://10times.com/company/international-gem-jewelry-show-inc', 'ratingValue': '4.2', 'ratingCount': '2534', 'bestRating': '5'}}\n"
     ]
    },
    {
     "name": "stderr",
     "output_type": "stream",
     "text": [
      "INFO:__main__:Organizer #5\n"
     ]
    },
    {
     "name": "stdout",
     "output_type": "stream",
     "text": [
      "organizer_link =  https://10times.com/company/halldale-media-inc\n",
      "organizer_schema_json =  {'@context': 'http://schema.org', '@type': 'LocalBusiness', 'name': 'Halldale Media Inc', 'url': 'https://10times.com/company/halldale-media-inc', 'description': 'Halldale Media Inc is one of the leading organizations that are dedicated to the field of simulation and training information.  The main office of this organization is located in Lake Mary Florida USA. This company is part of the Halldale Media Group which is an organization based in the United Kingdom. For more than 8 years this company has been working in this sphere aided by simulation aviation training symposiums and tradeshows electronic news online industry directories along with training publications. Andy Smith is the President of this company whose annual turnover is 2100000 USD approximately. Asia Pacific Airline Training Symposium or APATS European Airline Training Symposium or EATS as well as World Aviation Training Conference and Tradeshow or WATS are some of the many events that would be organized by this company in the near future.', 'image': ['https://im.gifbt.com/company/1580887309/113485e3a6d0dc56b8.png', 'https://im.gifbt.com/map/city/70837.png'], 'address': {'@type': 'PostalAddress', 'streetAddress': 'USA Lake Mary 32746Florida 115 Timberlachen CircleSte 2009', 'addressRegion': 'Orlando', 'addressCountry': 'US'}, 'aggregateRating': {'@type': 'AggregateRating', '@id': 'https://10times.com/company/halldale-media-inc#aggregate', 'url': 'https://10times.com/company/halldale-media-inc', 'ratingValue': '4.8', 'ratingCount': '9', 'bestRating': '5'}}\n"
     ]
    },
    {
     "name": "stderr",
     "output_type": "stream",
     "text": [
      "INFO:__main__:Organizer #6\n"
     ]
    },
    {
     "name": "stdout",
     "output_type": "stream",
     "text": [
      "organizer_link =  https://10times.com/company/world-natural-hair-health-and-beauty-show-united-states-of-america\n",
      "organizer_schema_json =  {'@context': 'http://schema.org', '@type': 'LocalBusiness', 'name': 'Taliah Waajid', 'url': 'https://10times.com/company/world-natural-hair-health-and-beauty-show-united-states-of-america', 'description': 'World Natural Hair Health and Beauty Show is one of the premier event organizer', 'image': ['https://im.gifbt.com/map/city/89354.png'], 'address': {'@type': 'PostalAddress', 'streetAddress': '4620 S Atlanta Rd SE', 'addressRegion': 'Smyrna', 'addressCountry': 'US'}, 'aggregateRating': {'@type': 'AggregateRating', '@id': 'https://10times.com/company/world-natural-hair-health-and-beauty-show-united-states-of-america#aggregate', 'url': 'https://10times.com/company/world-natural-hair-health-and-beauty-show-united-states-of-america', 'ratingValue': '4.5', 'ratingCount': '13', 'bestRating': '5'}}\n"
     ]
    },
    {
     "name": "stderr",
     "output_type": "stream",
     "text": [
      "INFO:__main__:Organizer #7\n"
     ]
    },
    {
     "name": "stdout",
     "output_type": "stream",
     "text": [
      "organizer_link =  https://10times.com/company/national-association-broadcasters\n",
      "organizer_schema_json =  {'@context': 'http://schema.org', '@type': 'LocalBusiness', 'name': 'National Association of Broadcasters', 'url': 'https://10times.com/company/national-association-broadcasters', 'description': 'NAB Show held April 6 - 11 2019 in Las Vegas NV USA is the worlds largest and most comprehensive convention encompassing the convergence of media entertainment and technology. With more than 90000 attendees from 160 countries and 1600+ exhibitors NAB Show is the ultimate marketplace for solutions that transcend traditional broadcasting and fuel the digital storytelling economy. From creation to consumption across multiple platforms and countless nationalities NAB Show is where global visionaries convene to bring content to life in new and exciting ways.', 'image': ['https://im.gifbt.com/event/national-association-broadcasters/1560394857009/logo1560366617.jpg', 'https://im.gifbt.com/map/city/71740.png'], 'address': {'@type': 'PostalAddress', 'streetAddress': '1771 N', 'addressRegion': 'Washington DC', 'addressCountry': 'US'}, 'aggregateRating': {'@type': 'AggregateRating', '@id': 'https://10times.com/company/national-association-broadcasters#aggregate', 'url': 'https://10times.com/company/national-association-broadcasters', 'ratingValue': '4.5', 'ratingCount': '67', 'bestRating': '5'}}\n"
     ]
    }
   ],
   "source": [
    "print(\"organizer link length = \", len(organizer_links_distinct))\n",
    "j = 0\n",
    "for organizer_link in organizer_links_distinct:\n",
    "    logger.info('Organizer #' + str(j))\n",
    "    print(\"organizer_link = \", organizer_link)\n",
    "    driver.get(organizer_link)\n",
    "    j = j+1\n",
    "    organizer_scrapy_selector = Selector(text = driver.page_source)\n",
    "    organizer_json_string = organizer_scrapy_selector.xpath('//*[@type=\"application/ld+json\"]/text()').extract_first()\n",
    "    organizer_schema_json = json.loads(organizer_json_string)\n",
    "    print(\"organizer_schema_json = \", organizer_schema_json)\n",
    "    time.sleep(10+j/10)"
   ]
  },
  {
   "cell_type": "code",
   "execution_count": 78,
   "metadata": {},
   "outputs": [],
   "source": [
    "driver.close()"
   ]
  }
 ],
 "metadata": {
  "kernelspec": {
   "display_name": "Python 3.7.1 64-bit ('base': conda)",
   "language": "python",
   "name": "python37164bitbasecondaa6ad3888e71041f28a95a6c679df2ed7"
  },
  "language_info": {
   "codemirror_mode": {
    "name": "ipython",
    "version": 3
   },
   "file_extension": ".py",
   "mimetype": "text/x-python",
   "name": "python",
   "nbconvert_exporter": "python",
   "pygments_lexer": "ipython3",
   "version": "3.7.1"
  }
 },
 "nbformat": 4,
 "nbformat_minor": 2
}
