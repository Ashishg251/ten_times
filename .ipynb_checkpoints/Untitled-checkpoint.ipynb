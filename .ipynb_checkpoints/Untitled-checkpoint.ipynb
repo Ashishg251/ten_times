{
 "cells": [
  {
   "cell_type": "code",
   "execution_count": 147,
   "metadata": {},
   "outputs": [],
   "source": [
    "import scrapy\n",
    "import time\n",
    "import selenium\n",
    "import json\n",
    "import re\n",
    "from scrapy.selector import Selector\n",
    "from selenium import webdriver\n",
    "from selenium.webdriver.common.keys import Keys\n",
    "import logging\n",
    "logging.basicConfig(level=logging.INFO)\n",
    "logger = logging.getLogger(__name__)"
   ]
  },
  {
   "cell_type": "code",
   "execution_count": 148,
   "metadata": {},
   "outputs": [],
   "source": [
    "header = {'User-Agent': 'Mozilla/5.0 (Macintosh; Intel Mac OS X 10_14_6) AppleWebKit/537.36 (KHTML, like Gecko) Chrome/80.0.3987.132 Safari/537.36'}\n",
    "driver = webdriver.Chrome('/Users/ashish/Downloads/chromedriver')\n",
    "# driver.get('https://10times.com/antique-furniture-china')\n",
    "# driver.get('https://10times.com/china-hefei-international-environmental')\n",
    "driver.get('https://10times.com/cicc')"
   ]
  },
  {
   "cell_type": "code",
   "execution_count": 149,
   "metadata": {},
   "outputs": [
    {
     "name": "stdout",
     "output_type": "stream",
     "text": [
      "visitors =           100 - 500 Exhibitors \n",
      "          hasNumbers(visitors) =  True\n",
      "exhibitors =   Trade Show  hasNumbers(exhibitors) =  False\n"
     ]
    }
   ],
   "source": [
    "def hasNumbers(inputString):\n",
    "    return bool(re.search(r'\\d', inputString))\n",
    "visitors = scrapy_selector.css('table.table.noBorder.mng tr')[1].css('td a::text')[1].get()\n",
    "exhibitors = scrapy_selector.css('table.table.noBorder.mng tr')[1].css('td a::text')[2].get()\n",
    "print(\"visitors = \", visitors, \" hasNumbers(visitors) = \", hasNumbers(visitors))\n",
    "print(\"exhibitors = \", exhibitors,  \" hasNumbers(exhibitors) = \", hasNumbers(exhibitors))"
   ]
  },
  {
   "cell_type": "code",
   "execution_count": 150,
   "metadata": {},
   "outputs": [
    {
     "name": "stdout",
     "output_type": "stream",
     "text": [
      "md =  {'ep': 'The exhibitors of China Beijing International Coal Chemical Industry Exhibition will exhibit the latest products and services including coal chemical equipment, pulverized coal, coal slurry processing equipment, ball mill, grinding stripping machine, dryer, mixer, grinding machines, grinding machines, filter slurry equipment, coal gasification equipment, nozzle, high temperature thermocouple, surface thermocouple, mass transfer equipment, packing plate tower, packed tower, distillation recycling tower, absorber,  the reaction equipment, tubular reactor slurry the state bed reactor, closed calcium carbide furnace, enrichment equipment, thickener, cans condensed, concentrated, concentrated pot, heat transfer equipment, radiators, heat exchangers, heaters, coolers, evaporators, condensers,  storage and transportation equipment, tanks, tankers, tanks, storage and transport container,  conveyor equipment, conveyor, hoisting machine, feeding machine, blower, fan, blower, compressor, high-pressure boilers, Pressure Vessels,  air separation equipment, air separation equipment, air compressor, booster, oxygen compressor, carbon monoxide compressor, measuring instruments, inspection and test instruments, pressure gauge, hot analytical instruments, mass flow meter,  feed pumps, centrifugal pumps, liquid oxygen pump, liquid nitrogen pump, lock hopper valves, valve of the coal slurry, slag water valve, wear resistant ball valve, high temperature valve,  Blackwater reducing valve, environmental protection equipment, air purification equipment, water treatment equipment, chemical auxiliary equipment, power generation equipment,  coal chemical production technology, coal gas technology, large scale methanol, dimethyl ether production technology, coal gasification technology, coal polygeneration technology,  gas separation process and environmental technology, coke, coal tar, coal tar and its deep processing products, calcium carbide, chemical fertilizers and coal chemical products.', 'timing': ' 09:00 AM-06:00 PM (expected)', 'type': ' Trade Show', 'category': 'Industrial Engineering', 'participants_visitors': '         100 - 500 Exhibitors \\n        ', 'participants_exhibitors': 'Industrial Engineering'}\n"
     ]
    }
   ],
   "source": [
    "scrapy_selector = Selector(text = driver.page_source)\n",
    "# ep = scrapy_selector.xpath('//section[@id=\"exhib\"]/p[@class=\"desc\"]/text()').get()\n",
    "md = {\n",
    "    \"ep\": scrapy_selector.css('section#exhib p.desc::text').get(),\n",
    "    \"timing\": scrapy_selector.css('tr#hvrout1 td::text').get(),\n",
    "    \"type\": scrapy_selector.css('td#hvrout2::text').get(),\n",
    "    \"category\": scrapy_selector.css('td#hvrout2 a::text').get(),\n",
    "    \"participants_visitors\": visitors if hasNumbers(visitors) else scrapy_selector.css('table.table.noBorder.mng tr')[1].css('td a::text')[1].get(),\n",
    "    \"participants_exhibitors\": exhibitors if hasNumbers(exhibitors) else scrapy_selector.css('table.table.noBorder.mng tr')[1].css('td a::text')[2].get()\n",
    "}\n",
    "\n",
    "print(\"md = \", md)"
   ]
  },
  {
   "cell_type": "code",
   "execution_count": 151,
   "metadata": {},
   "outputs": [
    {
     "name": "stdout",
     "output_type": "stream",
     "text": [
      "{'ep': 'The exhibitors of China Beijing International Coal Chemical Industry Exhibition will exhibit the latest products and services including coal chemical equipment, pulverized coal, coal slurry processing equipment, ball mill, grinding stripping machine, dryer, mixer, grinding machines, grinding machines, filter slurry equipment, coal gasification equipment, nozzle, high temperature thermocouple, surface thermocouple, mass transfer equipment, packing plate tower, packed tower, distillation recycling tower, absorber,  the reaction equipment, tubular reactor slurry the state bed reactor, closed calcium carbide furnace, enrichment equipment, thickener, cans condensed, concentrated, concentrated pot, heat transfer equipment, radiators, heat exchangers, heaters, coolers, evaporators, condensers,  storage and transportation equipment, tanks, tankers, tanks, storage and transport container,  conveyor equipment, conveyor, hoisting machine, feeding machine, blower, fan, blower, compressor, high-pressure boilers, Pressure Vessels,  air separation equipment, air separation equipment, air compressor, booster, oxygen compressor, carbon monoxide compressor, measuring instruments, inspection and test instruments, pressure gauge, hot analytical instruments, mass flow meter,  feed pumps, centrifugal pumps, liquid oxygen pump, liquid nitrogen pump, lock hopper valves, valve of the coal slurry, slag water valve, wear resistant ball valve, high temperature valve,  Blackwater reducing valve, environmental protection equipment, air purification equipment, water treatment equipment, chemical auxiliary equipment, power generation equipment,  coal chemical production technology, coal gas technology, large scale methanol, dimethyl ether production technology, coal gasification technology, coal polygeneration technology,  gas separation process and environmental technology, coke, coal tar, coal tar and its deep processing products, calcium carbide, chemical fertilizers and coal chemical products.', 'timing': '09:00 AM-06:00 PM (expected)', 'type': 'Trade Show', 'category': 'Industrial Engineering', 'participants_visitors': '100 - 500 Exhibitors', 'participants_exhibitors': 'Industrial Engineering'}\n"
     ]
    }
   ],
   "source": [
    "md_new = {}\n",
    "for attr, value in md.items():\n",
    "    if(md[attr] is not None):\n",
    "        md_new[attr] = value.strip()\n",
    "print(md_new)"
   ]
  },
  {
   "cell_type": "code",
   "execution_count": 152,
   "metadata": {},
   "outputs": [],
   "source": [
    "driver.close()"
   ]
  }
 ],
 "metadata": {
  "kernelspec": {
   "display_name": "Python 3",
   "language": "python",
   "name": "python3"
  },
  "language_info": {
   "codemirror_mode": {
    "name": "ipython",
    "version": 3
   },
   "file_extension": ".py",
   "mimetype": "text/x-python",
   "name": "python",
   "nbconvert_exporter": "python",
   "pygments_lexer": "ipython3",
   "version": "3.7.1"
  }
 },
 "nbformat": 4,
 "nbformat_minor": 2
}
